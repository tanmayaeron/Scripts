{
 "cells": [
  {
   "cell_type": "code",
   "execution_count": 1,
   "metadata": {},
   "outputs": [],
   "source": [
    "import pandas as pd\n",
    "import datetime\n",
    "from datetime import time,timedelta"
   ]
  },
  {
   "cell_type": "code",
   "execution_count": 2,
   "metadata": {},
   "outputs": [],
   "source": [
    "record = pd.read_csv('raw_attendance.csv')"
   ]
  },
  {
   "cell_type": "code",
   "execution_count": 3,
   "metadata": {},
   "outputs": [
    {
     "name": "stdout",
     "output_type": "stream",
     "text": [
      "     Unnamed: 0               Full Name    User Action               Timestamp\n",
      "0             0  hXcMUMjoQg_2014GOI4381  Joined before  9/26/2020, 10:56:12 AM\n",
      "1             1  hXcMUMjoQg_2014GOI4381           Left  9/26/2020, 10:57:10 AM\n",
      "2             2  ZcwOpnilJX_4537ITK4802  Joined before  9/26/2020, 10:56:12 AM\n",
      "3             3  ZcwOpnilJX_4537ITK4802           Left  9/26/2020, 10:59:03 AM\n",
      "4             4  ZcwOpnilJX_4537ITK4802         Joined  9/26/2020, 10:59:04 AM\n",
      "..          ...                     ...            ...                     ...\n",
      "555         555  laCHGVZsdO_7088FTO2914         Joined  9/26/2020, 12:22:04 PM\n",
      "556         556  laCHGVZsdO_7088FTO2914           Left  9/26/2020, 12:24:57 PM\n",
      "557         557  QMTFYtPXpQ_9003JMW3329         Joined  9/26/2020, 12:22:20 PM\n",
      "558         558  LvEaopzuHM_4872WDB5314         Joined  9/26/2020, 12:26:13 PM\n",
      "559         559  LvEaopzuHM_4872WDB5314           Left  9/26/2020, 12:26:30 PM\n",
      "\n",
      "[560 rows x 4 columns]\n"
     ]
    }
   ],
   "source": [
    "print(record)"
   ]
  },
  {
   "cell_type": "code",
   "execution_count": 4,
   "metadata": {},
   "outputs": [],
   "source": [
    "num = len(record.Timestamp)"
   ]
  },
  {
   "cell_type": "code",
   "execution_count": 5,
   "metadata": {
    "scrolled": false
   },
   "outputs": [
    {
     "name": "stdout",
     "output_type": "stream",
     "text": [
      "560\n"
     ]
    }
   ],
   "source": [
    "print(num)"
   ]
  },
  {
   "cell_type": "code",
   "execution_count": 6,
   "metadata": {},
   "outputs": [],
   "source": [
    "d={}\n",
    "final={'Name':[],'Entrynumber':[],'Timestamp':[],'Totaltime':[],'Status':[]}"
   ]
  },
  {
   "cell_type": "code",
   "execution_count": 7,
   "metadata": {},
   "outputs": [],
   "source": [
    "for i in range(num):\n",
    "    curr=record.loc[i]\n",
    "    name=curr[1]\n",
    "    action=curr[2]\n",
    "    timestamp=curr[3]\n",
    "    date_time=timestamp\n",
    "    name=name.split('_')\n",
    "    timestamp=timestamp.split(',')\n",
    "    #print(type(timestamp))\n",
    "    if name[0] in d.keys():\n",
    "        if action == \"Joined\":\n",
    "            t = d[name[0]][1]+timestamp[1]+\",\"\n",
    "            d[name[0]][1]=t\n",
    "        elif action == \"Left\":\n",
    "            t=d[name[0]][1]\n",
    "            s=t.split(\",\")\n",
    "            initialtime=s[-2]\n",
    "            finaltime=timestamp[1]\n",
    "            initialtime=datetime.datetime.strptime(initialtime,\" %I:%M:%S %p\")\n",
    "            finaltime=datetime.datetime.strptime(finaltime,\" %I:%M:%S %p\")\n",
    "            difference=finaltime-initialtime\n",
    "            duration=difference.total_seconds()/60\n",
    "            d[name[0]][1]=t+timestamp[1]+\",\"+str(round(duration,2))+'\\n,'\n",
    "            d[name[0]][2]=d[name[0]][2]+duration\n",
    "            if d[name[0]][2]>40:\n",
    "                d[name[0]][3]='Present'\n",
    "            \n",
    "    else:\n",
    "        d[name[0]]=[]\n",
    "        if len(name)==1:\n",
    "            d[name[0]].append(\"\")\n",
    "        else:\n",
    "            d[name[0]].append(name[1])\n",
    "        d[name[0]].append(timestamp[1]+\",\")\n",
    "        d[name[0]].append(0)\n",
    "        d[name[0]].append('Absent')\n",
    "        \n",
    "for key in d.keys():\n",
    "    s=d[key][1]\n",
    "    if s[-1]==',' and s[-2]!='\\n':\n",
    "        finaltime=\" 12:30:00 PM\"\n",
    "        initialtime= s.split(',')[-2]\n",
    "        initialtime=datetime.datetime.strptime(initialtime,\" %I:%M:%S %p\")\n",
    "        _final=datetime.datetime.strptime(finaltime,\" %I:%M:%S %p\")\n",
    "        difference=_final-initialtime\n",
    "        duration=difference.total_seconds()/60\n",
    "        d[key][1]=d[key][1]+finaltime+\",\"+str(round(duration,2))+'\\n'\n",
    "        d[key][2]=d[key][2]+duration\n",
    "        if d[key][2]>40:\n",
    "            d[key][3]='Present'"
   ]
  },
  {
   "cell_type": "code",
   "execution_count": 8,
   "metadata": {},
   "outputs": [
    {
     "name": "stdout",
     "output_type": "stream",
     "text": [
      "<class 'str'>\n",
      "<class 'str'>\n",
      "<class 'str'>\n",
      "<class 'float'>\n",
      "<class 'str'>\n"
     ]
    }
   ],
   "source": [
    "for key in d.keys():\n",
    "    print(type(key))\n",
    "    print(type(d[key][0]))\n",
    "    print(type(d[key][1]))\n",
    "    print(type(d[key][2]))\n",
    "    print(type(d[key][3]))\n",
    "    break\n",
    "    "
   ]
  },
  {
   "cell_type": "code",
   "execution_count": 9,
   "metadata": {},
   "outputs": [],
   "source": [
    "for key in d.keys():\n",
    "    #print(key)\n",
    "    final['Name'].append(key)\n",
    "    final['Entrynumber'].append(d[key][0])\n",
    "    final['Timestamp'].append(d[key][1])\n",
    "    final['Totaltime'].append(str(round(d[key][2],2)))\n",
    "    final['Status'].append(d[key][3])"
   ]
  },
  {
   "cell_type": "code",
   "execution_count": 10,
   "metadata": {},
   "outputs": [],
   "source": [
    "df = pd.DataFrame(final)"
   ]
  },
  {
   "cell_type": "code",
   "execution_count": 11,
   "metadata": {},
   "outputs": [
    {
     "name": "stdout",
     "output_type": "stream",
     "text": [
      "           Name  Entrynumber  \\\n",
      "0    hXcMUMjoQg  2014GOI4381   \n",
      "1    ZcwOpnilJX  4537ITK4802   \n",
      "2    DeKThdfHPS  3698HFP8237   \n",
      "3    MHSkvimJDu  1783MCY5605   \n",
      "4    CENUJlflMr  6174IFB4290   \n",
      "..          ...          ...   \n",
      "180  xzdOqziODg  1647CUT0284   \n",
      "181  OdPQABIWmc  4285MGX8767   \n",
      "182  NjQCIWxhIi  1098DOD3024   \n",
      "183  VEMdKyOqDI  1596QYK5980   \n",
      "184  laCHGVZsdO  7088FTO2914   \n",
      "\n",
      "                                             Timestamp Totaltime   Status  \n",
      "0     10:56:12 AM, 10:57:10 AM,0.97\\n, 11:00:13 AM,...     89.18  Present  \n",
      "1     10:56:12 AM, 10:59:03 AM,2.85\\n, 10:59:04 AM,...    128.58  Present  \n",
      "2     10:56:12 AM, 10:57:27 AM,1.25\\n, 10:57:47 AM,...     16.77   Absent  \n",
      "3     10:56:12 AM, 10:56:18 AM,0.1\\n, 10:56:27 AM, ...     87.53  Present  \n",
      "4     10:56:12 AM, 10:59:05 AM,2.88\\n, 10:59:06 AM,...     88.83  Present  \n",
      "..                                                 ...       ...      ...  \n",
      "180                  11:56:03 AM, 12:06:08 PM,10.08\\n,     10.08   Absent  \n",
      "181   11:59:35 AM, 12:02:09 PM,2.57\\n, 12:02:53 PM,...     29.68   Absent  \n",
      "182                   12:13:37 PM, 12:30:00 PM,16.38\\n     16.38   Absent  \n",
      "183                   12:21:14 PM, 12:25:10 PM,3.93\\n,      3.93   Absent  \n",
      "184                   12:22:04 PM, 12:24:57 PM,2.88\\n,      2.88   Absent  \n",
      "\n",
      "[185 rows x 5 columns]\n"
     ]
    }
   ],
   "source": [
    "print(df)"
   ]
  },
  {
   "cell_type": "code",
   "execution_count": 12,
   "metadata": {},
   "outputs": [],
   "source": [
    "df.to_csv('attendance.csv')"
   ]
  }
 ],
 "metadata": {
  "kernelspec": {
   "display_name": "Python 3",
   "language": "python",
   "name": "python3"
  },
  "language_info": {
   "codemirror_mode": {
    "name": "ipython",
    "version": 3
   },
   "file_extension": ".py",
   "mimetype": "text/x-python",
   "name": "python",
   "nbconvert_exporter": "python",
   "pygments_lexer": "ipython3",
   "version": "3.8.0"
  }
 },
 "nbformat": 4,
 "nbformat_minor": 4
}
