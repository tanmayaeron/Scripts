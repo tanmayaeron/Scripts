{
 "cells": [
  {
   "cell_type": "markdown",
   "metadata": {},
   "source": [
    "# Automation of Evaluation of codes\n",
    "\n",
    "This code tries to automate evaluation of assignments on a very basic level.\n",
    "Students submit assignment with filename of format \n",
    "L_Labnumber_FirstName_EntryNumber_CourseCode_Year.c/cpp.\n",
    "Some input/output files are stored on system.\n",
    "This code run their codes on these input files \n",
    "grades them on the basis of number of testcases passed."
   ]
  },
  {
   "cell_type": "markdown",
   "metadata": {},
   "source": [
    "There is a folder in current working directory with name L0+\"lab_number\".\\\n",
    "Within this folder, there are input and output files with name l0+\"lab_number\"+\"input\"/\"output\"+\"file_number\".\\\n",
    "Along with these input output files, there is a folder L0+\"lab_number\"+\"_codes\" containing all code files submitted by students\n"
   ]
  },
  {
   "cell_type": "code",
   "execution_count": 1,
   "metadata": {},
   "outputs": [
    {
     "name": "stdout",
     "output_type": "stream",
     "text": [
      "nt\n"
     ]
    }
   ],
   "source": [
    "import os\n",
    "import shutil\n",
    "import pandas as pd\n",
    "print(os.name)\n",
    "#nt is for windows\n",
    "#This code is designed to work for windows"
   ]
  },
  {
   "cell_type": "code",
   "execution_count": 2,
   "metadata": {},
   "outputs": [],
   "source": [
    "curr_folder=os.getcwd()"
   ]
  },
  {
   "cell_type": "code",
   "execution_count": 3,
   "metadata": {},
   "outputs": [
    {
     "name": "stdout",
     "output_type": "stream",
     "text": [
      "2\n"
     ]
    }
   ],
   "source": [
    "n=int(input())#lab_number"
   ]
  },
  {
   "cell_type": "code",
   "execution_count": 4,
   "metadata": {
    "scrolled": true
   },
   "outputs": [
    {
     "name": "stdout",
     "output_type": "stream",
     "text": [
      "L02\n"
     ]
    }
   ],
   "source": [
    "lab_folder = \"L0\"+str(n)\n",
    "print(lab_folder)"
   ]
  },
  {
   "cell_type": "code",
   "execution_count": 5,
   "metadata": {},
   "outputs": [
    {
     "name": "stdout",
     "output_type": "stream",
     "text": [
      "L02_codes\n"
     ]
    }
   ],
   "source": [
    "code_folder = lab_folder+\"_codes\"\n",
    "print(code_folder)"
   ]
  },
  {
   "cell_type": "code",
   "execution_count": 6,
   "metadata": {},
   "outputs": [],
   "source": [
    "path_to_lab_folder = os.path.join(curr_folder,lab_folder)"
   ]
  },
  {
   "cell_type": "code",
   "execution_count": 7,
   "metadata": {},
   "outputs": [],
   "source": [
    "relative_path_to_code_folder=os.path.join(lab_folder,code_folder)"
   ]
  },
  {
   "cell_type": "code",
   "execution_count": 8,
   "metadata": {},
   "outputs": [],
   "source": [
    "abs_path_to_code_folder=os.path.join(path_to_lab_folder,code_folder)"
   ]
  },
  {
   "cell_type": "code",
   "execution_count": 9,
   "metadata": {},
   "outputs": [
    {
     "name": "stdout",
     "output_type": "stream",
     "text": [
      "['L02_Ambuj_2018CSB1125_CS201_2020.c', 'L02_Anuj_2017CSB1125_CS201_2020.c', 'L02_Diksha_2019MCB1216_CS201_2020.c', 'L02_Disha_2018CSB1216_CS201_2020.c', 'L02_Tanay_2018CSB1124_CS201_2020.c', 'L02_Tanmay_2019CSB1124_CS201_2020.c', 'L02_Tanuj_2019CSB1125_CS201_2020.c', 'L02_Tarun_2017CSB1123_CS201_2020.c']\n"
     ]
    }
   ],
   "source": [
    "code_list=os.listdir(relative_path_to_code_folder)\n",
    "print(code_list)"
   ]
  },
  {
   "cell_type": "code",
   "execution_count": 10,
   "metadata": {},
   "outputs": [],
   "source": [
    "file_list = os.listdir(lab_folder)"
   ]
  },
  {
   "cell_type": "code",
   "execution_count": 11,
   "metadata": {},
   "outputs": [
    {
     "name": "stdout",
     "output_type": "stream",
     "text": [
      "['l02input1.txt', 'l02input2.txt', 'l02input3.txt', 'l02input4.txt', 'l02input5.txt', 'l02input6.txt']\n",
      "['l02output1.txt', 'l02output2.txt', 'l02output3.txt', 'l02output4.txt', 'l02output5.txt', 'l02output6.txt']\n"
     ]
    }
   ],
   "source": [
    "input_files=[f for f in file_list if f[0:8]=='l0'+str(n)+\"input\"]\n",
    "output_files=[f for f in file_list if f[0:9]=='l0'+str(n)+\"output\"]\n",
    "print(input_files)\n",
    "print(output_files)"
   ]
  },
  {
   "cell_type": "code",
   "execution_count": 12,
   "metadata": {},
   "outputs": [],
   "source": [
    "record={'Entry_Number':[],'Name':[],'Compilation_Status':[],'Score':[],'Remark':[]}"
   ]
  },
  {
   "cell_type": "code",
   "execution_count": 13,
   "metadata": {},
   "outputs": [],
   "source": [
    "num_codes=len(code_list)"
   ]
  },
  {
   "cell_type": "code",
   "execution_count": 14,
   "metadata": {},
   "outputs": [],
   "source": [
    "os.chdir(path_to_lab_folder)"
   ]
  },
  {
   "cell_type": "code",
   "execution_count": 15,
   "metadata": {
    "scrolled": true
   },
   "outputs": [
    {
     "name": "stdout",
     "output_type": "stream",
     "text": [
      "Evaluating L02_Ambuj_2018CSB1125_CS201_2020.c\n",
      "Evaluating L02_Anuj_2017CSB1125_CS201_2020.c\n",
      "Evaluating L02_Diksha_2019MCB1216_CS201_2020.c\n",
      "Evaluating L02_Disha_2018CSB1216_CS201_2020.c\n",
      "Evaluating L02_Tanay_2018CSB1124_CS201_2020.c\n",
      "Evaluating L02_Tanmay_2019CSB1124_CS201_2020.c\n",
      "Evaluating L02_Tanuj_2019CSB1125_CS201_2020.c\n",
      "Evaluating L02_Tarun_2017CSB1123_CS201_2020.c\n"
     ]
    }
   ],
   "source": [
    "for i in range(num_codes):\n",
    "    file_name=code_list[i]\n",
    "    print(\"Evaluating\",file_name)\n",
    "    info = file_name.split('_')\n",
    "    entry_number=info[2]\n",
    "    name=info[1]\n",
    "    record['Entry_Number'].append(entry_number)\n",
    "    record['Name'].append(name)\n",
    "    record['Score'].append(0)\n",
    "    record['Remark'].append('')\n",
    "    src=os.path.join(abs_path_to_code_folder,file_name)\n",
    "    destination=os.path.join(path_to_lab_folder,file_name)\n",
    "    shutil.copyfile(src,destination)\n",
    "    if file_name[-2:]=='.c':\n",
    "        compilation_status = os.system(\"gcc \"+file_name+\" -o \"+entry_number)\n",
    "    else:\n",
    "        compilation_status = os.system(\"g++ \"+file_name+\" -o \"+entry_number)\n",
    "    if compilation_status==0:\n",
    "        record['Compilation_Status'].append('Success')\n",
    "        test_cases_failed=[]\n",
    "        num_test_cases=len(input_files)\n",
    "        for j in range(num_test_cases):\n",
    "            os.system(entry_number+\" < \"+input_files[j]+\" > \"+entry_number+str(j+1)+\".txt\")\n",
    "            diff = os.system(\"FC \"+output_files[j]+\" \"+entry_number+str(j+1)+\".txt\")\n",
    "            if(diff==1):\n",
    "                test_cases_failed.append(j+1)\n",
    "            os.remove(os.path.join(path_to_lab_folder,entry_number+str(j+1)+\".txt\"))\n",
    "        num_cases_failed=len(test_cases_failed)\n",
    "        if num_cases_failed==0:\n",
    "            record['Remark'][i]='All test cases passed'\n",
    "            record['Score'][i]=100\n",
    "        else:\n",
    "            remark='failed for test cases '+str(test_cases_failed[0])\n",
    "            for _ in range(1,num_cases_failed):\n",
    "                remark=remark+','+str(test_cases_failed[_])\n",
    "            record['Remark'][i]=remark\n",
    "            record['Score'][i]=((num_test_cases-num_cases_failed)/num_test_cases)*100\n",
    "        path_executable=os.path.join(path_to_lab_folder,entry_number+\".exe\")\n",
    "        os.remove(path_executable)\n",
    "    else:\n",
    "        record['Compilation_Status'].append('Failed')\n",
    "        record['Remark'][i]='Compilation Failed'\n",
    "    os.remove(destination)"
   ]
  },
  {
   "cell_type": "code",
   "execution_count": 16,
   "metadata": {},
   "outputs": [],
   "source": [
    "marks_record=pd.DataFrame(record)"
   ]
  },
  {
   "cell_type": "code",
   "execution_count": 17,
   "metadata": {},
   "outputs": [
    {
     "name": "stdout",
     "output_type": "stream",
     "text": [
      "  Entry_Number    Name Compilation_Status       Score  \\\n",
      "0  2018CSB1125   Ambuj             Failed    0.000000   \n",
      "1  2017CSB1125    Anuj             Failed    0.000000   \n",
      "2  2019MCB1216  Diksha            Success   83.333333   \n",
      "3  2018CSB1216   Disha            Success   50.000000   \n",
      "4  2018CSB1124   Tanay            Success   66.666667   \n",
      "5  2019CSB1124  Tanmay            Success  100.000000   \n",
      "6  2019CSB1125   Tanuj            Success  100.000000   \n",
      "7  2017CSB1123   Tarun            Success   66.666667   \n",
      "\n",
      "                        Remark  \n",
      "0           Compilation Failed  \n",
      "1           Compilation Failed  \n",
      "2      failed for test cases 1  \n",
      "3  failed for test cases 1,4,5  \n",
      "4    failed for test cases 2,3  \n",
      "5        All test cases passed  \n",
      "6        All test cases passed  \n",
      "7    failed for test cases 3,6  \n"
     ]
    }
   ],
   "source": [
    "print(marks_record)"
   ]
  },
  {
   "cell_type": "code",
   "execution_count": 18,
   "metadata": {},
   "outputs": [],
   "source": [
    "file_destination=os.path.join(curr_folder,info[3]+\" Lab\"+str(n)+\" marks.csv\")"
   ]
  },
  {
   "cell_type": "code",
   "execution_count": 19,
   "metadata": {},
   "outputs": [],
   "source": [
    "marks_record.to_csv(file_destination)"
   ]
  }
 ],
 "metadata": {
  "kernelspec": {
   "display_name": "Python 3",
   "language": "python",
   "name": "python3"
  },
  "language_info": {
   "codemirror_mode": {
    "name": "ipython",
    "version": 3
   },
   "file_extension": ".py",
   "mimetype": "text/x-python",
   "name": "python",
   "nbconvert_exporter": "python",
   "pygments_lexer": "ipython3",
   "version": "3.8.0"
  }
 },
 "nbformat": 4,
 "nbformat_minor": 4
}
